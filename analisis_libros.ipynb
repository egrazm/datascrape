{
 "cells": [
  {
   "cell_type": "markdown",
   "id": "31a4835a",
   "metadata": {},
   "source": [
    "# 📚 Análisis Avanzado de libros.db\n",
    "Este notebook realiza:\n",
    "- Filtrado de libros con autor \"Desconocido\"\n",
    "- Exportación a CSV\n",
    "- Conteo de autores más frecuentes\n",
    "- Reintento de búsqueda de autores vía Google Books API para los que quedaron como 'Desconocido'\n"
   ]
  },
  {
   "cell_type": "code",
   "execution_count": 1,
   "id": "7f2f4b41",
   "metadata": {},
   "outputs": [],
   "source": [
    "import sqlite3\n",
    "import pandas as pd\n",
    "import requests"
   ]
  },
  {
   "cell_type": "markdown",
   "id": "21419101",
   "metadata": {},
   "source": [
    "## Cargar datos desde la base `libros.db`"
   ]
  },
  {
   "cell_type": "code",
   "execution_count": 2,
   "id": "6addbf2e",
   "metadata": {},
   "outputs": [
    {
     "data": {
      "text/html": [
       "<div>\n",
       "<style scoped>\n",
       "    .dataframe tbody tr th:only-of-type {\n",
       "        vertical-align: middle;\n",
       "    }\n",
       "\n",
       "    .dataframe tbody tr th {\n",
       "        vertical-align: top;\n",
       "    }\n",
       "\n",
       "    .dataframe thead th {\n",
       "        text-align: right;\n",
       "    }\n",
       "</style>\n",
       "<table border=\"1\" class=\"dataframe\">\n",
       "  <thead>\n",
       "    <tr style=\"text-align: right;\">\n",
       "      <th></th>\n",
       "      <th>title</th>\n",
       "      <th>author</th>\n",
       "      <th>price</th>\n",
       "      <th>rating</th>\n",
       "    </tr>\n",
       "  </thead>\n",
       "  <tbody>\n",
       "    <tr>\n",
       "      <th>0</th>\n",
       "      <td>It's Only the Himalayas</td>\n",
       "      <td>S. Bedford</td>\n",
       "      <td>£45.17</td>\n",
       "      <td>Two</td>\n",
       "    </tr>\n",
       "    <tr>\n",
       "      <th>1</th>\n",
       "      <td>Full Moon over Noah’s Ark: An Odyssey to Mount...</td>\n",
       "      <td>Rick Antonson</td>\n",
       "      <td>£49.43</td>\n",
       "      <td>Four</td>\n",
       "    </tr>\n",
       "    <tr>\n",
       "      <th>2</th>\n",
       "      <td>See America: A Celebration of Our National Par...</td>\n",
       "      <td>Desconocido</td>\n",
       "      <td>£48.87</td>\n",
       "      <td>Three</td>\n",
       "    </tr>\n",
       "    <tr>\n",
       "      <th>3</th>\n",
       "      <td>Vagabonding: An Uncommon Guide to the Art of L...</td>\n",
       "      <td>Rolf Potts</td>\n",
       "      <td>£36.94</td>\n",
       "      <td>Two</td>\n",
       "    </tr>\n",
       "    <tr>\n",
       "      <th>4</th>\n",
       "      <td>Under the Tuscan Sun</td>\n",
       "      <td>Frances Mayes</td>\n",
       "      <td>£37.33</td>\n",
       "      <td>Three</td>\n",
       "    </tr>\n",
       "  </tbody>\n",
       "</table>\n",
       "</div>"
      ],
      "text/plain": [
       "                                               title         author   price  \\\n",
       "0                            It's Only the Himalayas     S. Bedford  £45.17   \n",
       "1  Full Moon over Noah’s Ark: An Odyssey to Mount...  Rick Antonson  £49.43   \n",
       "2  See America: A Celebration of Our National Par...    Desconocido  £48.87   \n",
       "3  Vagabonding: An Uncommon Guide to the Art of L...     Rolf Potts  £36.94   \n",
       "4                               Under the Tuscan Sun  Frances Mayes  £37.33   \n",
       "\n",
       "  rating  \n",
       "0    Two  \n",
       "1   Four  \n",
       "2  Three  \n",
       "3    Two  \n",
       "4  Three  "
      ]
     },
     "execution_count": 2,
     "metadata": {},
     "output_type": "execute_result"
    }
   ],
   "source": [
    "conn = sqlite3.connect(\"libros.db\")\n",
    "query = \"\"\"\n",
    "SELECT \n",
    "    b.title, \n",
    "    a.name as author,\n",
    "    b.price,\n",
    "    b.rating\n",
    "FROM books b\n",
    "JOIN book_authors ba ON b.id = ba.book_id\n",
    "JOIN authors a ON a.id = ba.author_id\n",
    "\"\"\"\n",
    "df = pd.read_sql(query, conn)\n",
    "df.head()\n"
   ]
  },
  {
   "cell_type": "markdown",
   "id": "6cbd9c7b",
   "metadata": {},
   "source": [
    "## 1. Filtrar libros con autor desconocido"
   ]
  },
  {
   "cell_type": "code",
   "execution_count": 3,
   "id": "acb7e68e",
   "metadata": {},
   "outputs": [
    {
     "name": "stdout",
     "output_type": "stream",
     "text": [
      "Total libros con autor 'Desconocido': 505\n"
     ]
    },
    {
     "data": {
      "text/html": [
       "<div>\n",
       "<style scoped>\n",
       "    .dataframe tbody tr th:only-of-type {\n",
       "        vertical-align: middle;\n",
       "    }\n",
       "\n",
       "    .dataframe tbody tr th {\n",
       "        vertical-align: top;\n",
       "    }\n",
       "\n",
       "    .dataframe thead th {\n",
       "        text-align: right;\n",
       "    }\n",
       "</style>\n",
       "<table border=\"1\" class=\"dataframe\">\n",
       "  <thead>\n",
       "    <tr style=\"text-align: right;\">\n",
       "      <th></th>\n",
       "      <th>title</th>\n",
       "      <th>author</th>\n",
       "      <th>price</th>\n",
       "      <th>rating</th>\n",
       "    </tr>\n",
       "  </thead>\n",
       "  <tbody>\n",
       "    <tr>\n",
       "      <th>2</th>\n",
       "      <td>See America: A Celebration of Our National Par...</td>\n",
       "      <td>Desconocido</td>\n",
       "      <td>£48.87</td>\n",
       "      <td>Three</td>\n",
       "    </tr>\n",
       "    <tr>\n",
       "      <th>12</th>\n",
       "      <td>In a Dark, Dark Wood</td>\n",
       "      <td>Desconocido</td>\n",
       "      <td>£19.63</td>\n",
       "      <td>One</td>\n",
       "    </tr>\n",
       "    <tr>\n",
       "      <th>18</th>\n",
       "      <td>Tastes Like Fear (DI Marnie Rome #3)</td>\n",
       "      <td>Desconocido</td>\n",
       "      <td>£10.69</td>\n",
       "      <td>One</td>\n",
       "    </tr>\n",
       "    <tr>\n",
       "      <th>21</th>\n",
       "      <td>Poisonous (Max Revere Novels #3)</td>\n",
       "      <td>Desconocido</td>\n",
       "      <td>£26.80</td>\n",
       "      <td>Three</td>\n",
       "    </tr>\n",
       "    <tr>\n",
       "      <th>25</th>\n",
       "      <td>Boar Island (Anna Pigeon #19)</td>\n",
       "      <td>Desconocido</td>\n",
       "      <td>£59.48</td>\n",
       "      <td>Three</td>\n",
       "    </tr>\n",
       "  </tbody>\n",
       "</table>\n",
       "</div>"
      ],
      "text/plain": [
       "                                                title       author   price  \\\n",
       "2   See America: A Celebration of Our National Par...  Desconocido  £48.87   \n",
       "12                               In a Dark, Dark Wood  Desconocido  £19.63   \n",
       "18               Tastes Like Fear (DI Marnie Rome #3)  Desconocido  £10.69   \n",
       "21                   Poisonous (Max Revere Novels #3)  Desconocido  £26.80   \n",
       "25                      Boar Island (Anna Pigeon #19)  Desconocido  £59.48   \n",
       "\n",
       "   rating  \n",
       "2   Three  \n",
       "12    One  \n",
       "18    One  \n",
       "21  Three  \n",
       "25  Three  "
      ]
     },
     "execution_count": 3,
     "metadata": {},
     "output_type": "execute_result"
    }
   ],
   "source": [
    "desconocidos = df[df['author'].str.lower() == 'desconocido']\n",
    "print(f\"Total libros con autor 'Desconocido': {len(desconocidos)}\")\n",
    "desconocidos.head()"
   ]
  },
  {
   "cell_type": "markdown",
   "id": "a5405856",
   "metadata": {},
   "source": [
    "## 2. Exportar a CSV todos los libros"
   ]
  },
  {
   "cell_type": "code",
   "execution_count": 4,
   "id": "18942e74",
   "metadata": {},
   "outputs": [
    {
     "name": "stdout",
     "output_type": "stream",
     "text": [
      "✅ Exportado como libros_exportados.csv\n"
     ]
    }
   ],
   "source": [
    "df.to_csv(\"libros_exportados.csv\", index=False)\n",
    "print(\"✅ Exportado como libros_exportados.csv\")"
   ]
  },
  {
   "cell_type": "markdown",
   "id": "65a57510",
   "metadata": {},
   "source": [
    "## 3. Autores más frecuentes"
   ]
  },
  {
   "cell_type": "code",
   "execution_count": 5,
   "id": "7395e47e",
   "metadata": {},
   "outputs": [
    {
     "data": {
      "text/plain": [
       "author\n",
       "Natsuki Takaya      7\n",
       "Yann Martel         3\n",
       "Sophie Kinsella     3\n",
       "Dan Brown           3\n",
       "Robert Galbraith    3\n",
       "Stephen King        3\n",
       "Libros Maestros     3\n",
       "Malcolm Gladwell    3\n",
       "Cassandra Clare     3\n",
       "Bill Bryson         3\n",
       "Name: count, dtype: int64"
      ]
     },
     "execution_count": 5,
     "metadata": {},
     "output_type": "execute_result"
    }
   ],
   "source": [
    "top_autores = df[df['author'].str.lower() != 'desconocido']['author'].value_counts().head(10)\n",
    "top_autores"
   ]
  },
  {
   "cell_type": "markdown",
   "id": "4c26ce74",
   "metadata": {},
   "source": [
    "## 4. Reintentar obtener autores con la API de Google Books"
   ]
  },
  {
   "cell_type": "code",
   "execution_count": 6,
   "id": "825b6b86",
   "metadata": {},
   "outputs": [],
   "source": [
    "API_KEY = \"AQUÍ_VA_TU_API_KEY\"\n",
    "\n",
    "def buscar_autor_google_books(titulo):\n",
    "    params = {\n",
    "        'q': f'intitle:{titulo}',\n",
    "        'key': API_KEY,\n",
    "        'maxResults': 1,\n",
    "        'langRestrict': 'en'\n",
    "    }\n",
    "    try:\n",
    "        response = requests.get(\"https://www.googleapis.com/books/v1/volumes\", params=params)\n",
    "        if response.status_code == 200:\n",
    "            data = response.json()\n",
    "            if \"items\" in data:\n",
    "                volume_info = data[\"items\"][0][\"volumeInfo\"]\n",
    "                autores = volume_info.get(\"authors\", [\"Desconocido\"])\n",
    "                return \", \".join(autores)\n",
    "    except:\n",
    "        pass\n",
    "    return \"Desconocido\""
   ]
  },
  {
   "cell_type": "code",
   "execution_count": 7,
   "id": "c2acc0bb",
   "metadata": {},
   "outputs": [
    {
     "name": "stdout",
     "output_type": "stream",
     "text": [
      "🔄 See America: A Celebration of Our National Parks & Treasured Sites → Desconocido\n",
      "🔄 In a Dark, Dark Wood → Desconocido\n",
      "🔄 Tastes Like Fear (DI Marnie Rome #3) → Desconocido\n",
      "🔄 Poisonous (Max Revere Novels #3) → Desconocido\n",
      "🔄 Boar Island (Anna Pigeon #19) → Desconocido\n"
     ]
    }
   ],
   "source": [
    "# Reintenta para los primeros 5 como demo (cambiar a más si querés)\n",
    "for i, row in desconocidos.head(5).iterrows():\n",
    "    nuevo_autor = buscar_autor_google_books(row['title'])\n",
    "    print(f\"🔄 {row['title']} → {nuevo_autor}\")"
   ]
  },
  {
   "cell_type": "code",
   "execution_count": null,
   "id": "fdf37afb",
   "metadata": {},
   "outputs": [],
   "source": []
  }
 ],
 "metadata": {
  "kernelspec": {
   "display_name": ".venv",
   "language": "python",
   "name": "python3"
  },
  "language_info": {
   "codemirror_mode": {
    "name": "ipython",
    "version": 3
   },
   "file_extension": ".py",
   "mimetype": "text/x-python",
   "name": "python",
   "nbconvert_exporter": "python",
   "pygments_lexer": "ipython3",
   "version": "3.12.10"
  }
 },
 "nbformat": 4,
 "nbformat_minor": 5
}
